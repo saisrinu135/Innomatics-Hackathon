{
 "cells": [
  {
   "cell_type": "code",
   "execution_count": 3,
   "id": "97db37b1",
   "metadata": {},
   "outputs": [],
   "source": [
    "import numpy as np\n",
    "import pandas as pd"
   ]
  },
  {
   "cell_type": "markdown",
   "id": "f1c637a9",
   "metadata": {},
   "source": [
    "#### What is the shape of \"movies.csv\""
   ]
  },
  {
   "cell_type": "code",
   "execution_count": 4,
   "id": "9a5115cb",
   "metadata": {},
   "outputs": [],
   "source": [
    "movies = pd.read_csv(\"./movie_data/movies.csv\")"
   ]
  },
  {
   "cell_type": "code",
   "execution_count": 5,
   "id": "f2318ed0",
   "metadata": {},
   "outputs": [
    {
     "data": {
      "text/plain": [
       "(9742, 3)"
      ]
     },
     "execution_count": 5,
     "metadata": {},
     "output_type": "execute_result"
    }
   ],
   "source": [
    "movies.shape"
   ]
  },
  {
   "cell_type": "code",
   "execution_count": 6,
   "id": "5b967ea7",
   "metadata": {},
   "outputs": [],
   "source": [
    "ratings = pd.read_csv(\"./movie_data/ratings.csv\")"
   ]
  },
  {
   "cell_type": "markdown",
   "id": "bfe7e9a5",
   "metadata": {},
   "source": [
    "#### What is the shape of \"ratings.csv\"?"
   ]
  },
  {
   "cell_type": "code",
   "execution_count": 7,
   "id": "e6fa8696",
   "metadata": {},
   "outputs": [
    {
     "data": {
      "text/plain": [
       "(100836, 4)"
      ]
     },
     "execution_count": 7,
     "metadata": {},
     "output_type": "execute_result"
    }
   ],
   "source": [
    "ratings.shape"
   ]
  },
  {
   "cell_type": "markdown",
   "id": "130b9e82",
   "metadata": {},
   "source": [
    "#### How many unique \"userId\" are available in \"ratings.csv\""
   ]
  },
  {
   "cell_type": "code",
   "execution_count": 8,
   "id": "417fcf19",
   "metadata": {},
   "outputs": [
    {
     "data": {
      "text/plain": [
       "610"
      ]
     },
     "execution_count": 8,
     "metadata": {},
     "output_type": "execute_result"
    }
   ],
   "source": [
    "uniqueUserIds = ratings['userId'].unique()\n",
    "len(uniqueUserIds)"
   ]
  },
  {
   "cell_type": "code",
   "execution_count": 9,
   "id": "e55d561d",
   "metadata": {},
   "outputs": [
    {
     "data": {
      "text/html": [
       "<div>\n",
       "<style scoped>\n",
       "    .dataframe tbody tr th:only-of-type {\n",
       "        vertical-align: middle;\n",
       "    }\n",
       "\n",
       "    .dataframe tbody tr th {\n",
       "        vertical-align: top;\n",
       "    }\n",
       "\n",
       "    .dataframe thead th {\n",
       "        text-align: right;\n",
       "    }\n",
       "</style>\n",
       "<table border=\"1\" class=\"dataframe\">\n",
       "  <thead>\n",
       "    <tr style=\"text-align: right;\">\n",
       "      <th></th>\n",
       "      <th>userId</th>\n",
       "      <th>movieId</th>\n",
       "      <th>rating</th>\n",
       "      <th>timestamp</th>\n",
       "    </tr>\n",
       "  </thead>\n",
       "  <tbody>\n",
       "    <tr>\n",
       "      <th>0</th>\n",
       "      <td>1</td>\n",
       "      <td>1</td>\n",
       "      <td>4.0</td>\n",
       "      <td>964982703</td>\n",
       "    </tr>\n",
       "    <tr>\n",
       "      <th>1</th>\n",
       "      <td>1</td>\n",
       "      <td>3</td>\n",
       "      <td>4.0</td>\n",
       "      <td>964981247</td>\n",
       "    </tr>\n",
       "    <tr>\n",
       "      <th>2</th>\n",
       "      <td>1</td>\n",
       "      <td>6</td>\n",
       "      <td>4.0</td>\n",
       "      <td>964982224</td>\n",
       "    </tr>\n",
       "    <tr>\n",
       "      <th>3</th>\n",
       "      <td>1</td>\n",
       "      <td>47</td>\n",
       "      <td>5.0</td>\n",
       "      <td>964983815</td>\n",
       "    </tr>\n",
       "    <tr>\n",
       "      <th>4</th>\n",
       "      <td>1</td>\n",
       "      <td>50</td>\n",
       "      <td>5.0</td>\n",
       "      <td>964982931</td>\n",
       "    </tr>\n",
       "    <tr>\n",
       "      <th>...</th>\n",
       "      <td>...</td>\n",
       "      <td>...</td>\n",
       "      <td>...</td>\n",
       "      <td>...</td>\n",
       "    </tr>\n",
       "    <tr>\n",
       "      <th>100831</th>\n",
       "      <td>610</td>\n",
       "      <td>166534</td>\n",
       "      <td>4.0</td>\n",
       "      <td>1493848402</td>\n",
       "    </tr>\n",
       "    <tr>\n",
       "      <th>100832</th>\n",
       "      <td>610</td>\n",
       "      <td>168248</td>\n",
       "      <td>5.0</td>\n",
       "      <td>1493850091</td>\n",
       "    </tr>\n",
       "    <tr>\n",
       "      <th>100833</th>\n",
       "      <td>610</td>\n",
       "      <td>168250</td>\n",
       "      <td>5.0</td>\n",
       "      <td>1494273047</td>\n",
       "    </tr>\n",
       "    <tr>\n",
       "      <th>100834</th>\n",
       "      <td>610</td>\n",
       "      <td>168252</td>\n",
       "      <td>5.0</td>\n",
       "      <td>1493846352</td>\n",
       "    </tr>\n",
       "    <tr>\n",
       "      <th>100835</th>\n",
       "      <td>610</td>\n",
       "      <td>170875</td>\n",
       "      <td>3.0</td>\n",
       "      <td>1493846415</td>\n",
       "    </tr>\n",
       "  </tbody>\n",
       "</table>\n",
       "<p>100836 rows × 4 columns</p>\n",
       "</div>"
      ],
      "text/plain": [
       "        userId  movieId  rating   timestamp\n",
       "0            1        1     4.0   964982703\n",
       "1            1        3     4.0   964981247\n",
       "2            1        6     4.0   964982224\n",
       "3            1       47     5.0   964983815\n",
       "4            1       50     5.0   964982931\n",
       "...        ...      ...     ...         ...\n",
       "100831     610   166534     4.0  1493848402\n",
       "100832     610   168248     5.0  1493850091\n",
       "100833     610   168250     5.0  1494273047\n",
       "100834     610   168252     5.0  1493846352\n",
       "100835     610   170875     3.0  1493846415\n",
       "\n",
       "[100836 rows x 4 columns]"
      ]
     },
     "execution_count": 9,
     "metadata": {},
     "output_type": "execute_result"
    }
   ],
   "source": [
    "ratings"
   ]
  },
  {
   "cell_type": "code",
   "execution_count": 10,
   "id": "117b76bd",
   "metadata": {},
   "outputs": [],
   "source": [
    "links = pd.read_csv(\"./movie_data/links.csv\")"
   ]
  },
  {
   "cell_type": "code",
   "execution_count": 11,
   "id": "373eb2f3",
   "metadata": {},
   "outputs": [
    {
     "data": {
      "text/html": [
       "<div>\n",
       "<style scoped>\n",
       "    .dataframe tbody tr th:only-of-type {\n",
       "        vertical-align: middle;\n",
       "    }\n",
       "\n",
       "    .dataframe tbody tr th {\n",
       "        vertical-align: top;\n",
       "    }\n",
       "\n",
       "    .dataframe thead th {\n",
       "        text-align: right;\n",
       "    }\n",
       "</style>\n",
       "<table border=\"1\" class=\"dataframe\">\n",
       "  <thead>\n",
       "    <tr style=\"text-align: right;\">\n",
       "      <th></th>\n",
       "      <th>movieId</th>\n",
       "      <th>imdbId</th>\n",
       "      <th>tmdbId</th>\n",
       "    </tr>\n",
       "  </thead>\n",
       "  <tbody>\n",
       "    <tr>\n",
       "      <th>0</th>\n",
       "      <td>1</td>\n",
       "      <td>114709</td>\n",
       "      <td>862.0</td>\n",
       "    </tr>\n",
       "    <tr>\n",
       "      <th>1</th>\n",
       "      <td>2</td>\n",
       "      <td>113497</td>\n",
       "      <td>8844.0</td>\n",
       "    </tr>\n",
       "    <tr>\n",
       "      <th>2</th>\n",
       "      <td>3</td>\n",
       "      <td>113228</td>\n",
       "      <td>15602.0</td>\n",
       "    </tr>\n",
       "    <tr>\n",
       "      <th>3</th>\n",
       "      <td>4</td>\n",
       "      <td>114885</td>\n",
       "      <td>31357.0</td>\n",
       "    </tr>\n",
       "    <tr>\n",
       "      <th>4</th>\n",
       "      <td>5</td>\n",
       "      <td>113041</td>\n",
       "      <td>11862.0</td>\n",
       "    </tr>\n",
       "    <tr>\n",
       "      <th>...</th>\n",
       "      <td>...</td>\n",
       "      <td>...</td>\n",
       "      <td>...</td>\n",
       "    </tr>\n",
       "    <tr>\n",
       "      <th>9737</th>\n",
       "      <td>193581</td>\n",
       "      <td>5476944</td>\n",
       "      <td>432131.0</td>\n",
       "    </tr>\n",
       "    <tr>\n",
       "      <th>9738</th>\n",
       "      <td>193583</td>\n",
       "      <td>5914996</td>\n",
       "      <td>445030.0</td>\n",
       "    </tr>\n",
       "    <tr>\n",
       "      <th>9739</th>\n",
       "      <td>193585</td>\n",
       "      <td>6397426</td>\n",
       "      <td>479308.0</td>\n",
       "    </tr>\n",
       "    <tr>\n",
       "      <th>9740</th>\n",
       "      <td>193587</td>\n",
       "      <td>8391976</td>\n",
       "      <td>483455.0</td>\n",
       "    </tr>\n",
       "    <tr>\n",
       "      <th>9741</th>\n",
       "      <td>193609</td>\n",
       "      <td>101726</td>\n",
       "      <td>37891.0</td>\n",
       "    </tr>\n",
       "  </tbody>\n",
       "</table>\n",
       "<p>9742 rows × 3 columns</p>\n",
       "</div>"
      ],
      "text/plain": [
       "      movieId   imdbId    tmdbId\n",
       "0           1   114709     862.0\n",
       "1           2   113497    8844.0\n",
       "2           3   113228   15602.0\n",
       "3           4   114885   31357.0\n",
       "4           5   113041   11862.0\n",
       "...       ...      ...       ...\n",
       "9737   193581  5476944  432131.0\n",
       "9738   193583  5914996  445030.0\n",
       "9739   193585  6397426  479308.0\n",
       "9740   193587  8391976  483455.0\n",
       "9741   193609   101726   37891.0\n",
       "\n",
       "[9742 rows x 3 columns]"
      ]
     },
     "execution_count": 11,
     "metadata": {},
     "output_type": "execute_result"
    }
   ],
   "source": [
    "links"
   ]
  },
  {
   "cell_type": "code",
   "execution_count": 12,
   "id": "12dc6e19",
   "metadata": {},
   "outputs": [],
   "source": [
    "tags =pd.read_csv(\"./movie_data/tags.csv\")"
   ]
  },
  {
   "cell_type": "code",
   "execution_count": 13,
   "id": "8b59f5f8",
   "metadata": {},
   "outputs": [
    {
     "data": {
      "text/html": [
       "<div>\n",
       "<style scoped>\n",
       "    .dataframe tbody tr th:only-of-type {\n",
       "        vertical-align: middle;\n",
       "    }\n",
       "\n",
       "    .dataframe tbody tr th {\n",
       "        vertical-align: top;\n",
       "    }\n",
       "\n",
       "    .dataframe thead th {\n",
       "        text-align: right;\n",
       "    }\n",
       "</style>\n",
       "<table border=\"1\" class=\"dataframe\">\n",
       "  <thead>\n",
       "    <tr style=\"text-align: right;\">\n",
       "      <th></th>\n",
       "      <th>userId</th>\n",
       "      <th>movieId</th>\n",
       "      <th>tag</th>\n",
       "      <th>timestamp</th>\n",
       "    </tr>\n",
       "  </thead>\n",
       "  <tbody>\n",
       "    <tr>\n",
       "      <th>0</th>\n",
       "      <td>2</td>\n",
       "      <td>60756</td>\n",
       "      <td>funny</td>\n",
       "      <td>1445714994</td>\n",
       "    </tr>\n",
       "    <tr>\n",
       "      <th>1</th>\n",
       "      <td>2</td>\n",
       "      <td>60756</td>\n",
       "      <td>Highly quotable</td>\n",
       "      <td>1445714996</td>\n",
       "    </tr>\n",
       "    <tr>\n",
       "      <th>2</th>\n",
       "      <td>2</td>\n",
       "      <td>60756</td>\n",
       "      <td>will ferrell</td>\n",
       "      <td>1445714992</td>\n",
       "    </tr>\n",
       "    <tr>\n",
       "      <th>3</th>\n",
       "      <td>2</td>\n",
       "      <td>89774</td>\n",
       "      <td>Boxing story</td>\n",
       "      <td>1445715207</td>\n",
       "    </tr>\n",
       "    <tr>\n",
       "      <th>4</th>\n",
       "      <td>2</td>\n",
       "      <td>89774</td>\n",
       "      <td>MMA</td>\n",
       "      <td>1445715200</td>\n",
       "    </tr>\n",
       "    <tr>\n",
       "      <th>...</th>\n",
       "      <td>...</td>\n",
       "      <td>...</td>\n",
       "      <td>...</td>\n",
       "      <td>...</td>\n",
       "    </tr>\n",
       "    <tr>\n",
       "      <th>3678</th>\n",
       "      <td>606</td>\n",
       "      <td>7382</td>\n",
       "      <td>for katie</td>\n",
       "      <td>1171234019</td>\n",
       "    </tr>\n",
       "    <tr>\n",
       "      <th>3679</th>\n",
       "      <td>606</td>\n",
       "      <td>7936</td>\n",
       "      <td>austere</td>\n",
       "      <td>1173392334</td>\n",
       "    </tr>\n",
       "    <tr>\n",
       "      <th>3680</th>\n",
       "      <td>610</td>\n",
       "      <td>3265</td>\n",
       "      <td>gun fu</td>\n",
       "      <td>1493843984</td>\n",
       "    </tr>\n",
       "    <tr>\n",
       "      <th>3681</th>\n",
       "      <td>610</td>\n",
       "      <td>3265</td>\n",
       "      <td>heroic bloodshed</td>\n",
       "      <td>1493843978</td>\n",
       "    </tr>\n",
       "    <tr>\n",
       "      <th>3682</th>\n",
       "      <td>610</td>\n",
       "      <td>168248</td>\n",
       "      <td>Heroic Bloodshed</td>\n",
       "      <td>1493844270</td>\n",
       "    </tr>\n",
       "  </tbody>\n",
       "</table>\n",
       "<p>3683 rows × 4 columns</p>\n",
       "</div>"
      ],
      "text/plain": [
       "      userId  movieId               tag   timestamp\n",
       "0          2    60756             funny  1445714994\n",
       "1          2    60756   Highly quotable  1445714996\n",
       "2          2    60756      will ferrell  1445714992\n",
       "3          2    89774      Boxing story  1445715207\n",
       "4          2    89774               MMA  1445715200\n",
       "...      ...      ...               ...         ...\n",
       "3678     606     7382         for katie  1171234019\n",
       "3679     606     7936           austere  1173392334\n",
       "3680     610     3265            gun fu  1493843984\n",
       "3681     610     3265  heroic bloodshed  1493843978\n",
       "3682     610   168248  Heroic Bloodshed  1493844270\n",
       "\n",
       "[3683 rows x 4 columns]"
      ]
     },
     "execution_count": 13,
     "metadata": {},
     "output_type": "execute_result"
    }
   ],
   "source": [
    "tags"
   ]
  },
  {
   "cell_type": "markdown",
   "id": "9a020205",
   "metadata": {},
   "source": [
    "#### Which movie has recieved maximum number of user ratings?"
   ]
  },
  {
   "cell_type": "code",
   "execution_count": 14,
   "id": "c0bbb7c1",
   "metadata": {},
   "outputs": [
    {
     "name": "stdout",
     "output_type": "stream",
     "text": [
      "The movie with the maximum number of user ratings is: Forrest Gump (1994)\n"
     ]
    }
   ],
   "source": [
    "# Group by movieId and count the number of ratings for each movie\n",
    "ratings_count = ratings.groupby('movieId')['userId'].count()\n",
    "\n",
    "# Find the movieId with the maximum number of ratings\n",
    "max_ratings_movie_id = ratings_count.idxmax()\n",
    "\n",
    "max_ratings_movie_title = movies[movies['movieId'] == max_ratings_movie_id]['title'].values[0]\n",
    "\n",
    "# Print the result\n",
    "print(f'The movie with the maximum number of user ratings is: {max_ratings_movie_title}')\n"
   ]
  },
  {
   "cell_type": "code",
   "execution_count": 15,
   "id": "b33cfe04",
   "metadata": {},
   "outputs": [],
   "source": [
    "data = pd.concat([movies,ratings],axis=1)"
   ]
  },
  {
   "cell_type": "code",
   "execution_count": 16,
   "id": "475502b8",
   "metadata": {},
   "outputs": [
    {
     "data": {
      "text/html": [
       "<div>\n",
       "<style scoped>\n",
       "    .dataframe tbody tr th:only-of-type {\n",
       "        vertical-align: middle;\n",
       "    }\n",
       "\n",
       "    .dataframe tbody tr th {\n",
       "        vertical-align: top;\n",
       "    }\n",
       "\n",
       "    .dataframe thead th {\n",
       "        text-align: right;\n",
       "    }\n",
       "</style>\n",
       "<table border=\"1\" class=\"dataframe\">\n",
       "  <thead>\n",
       "    <tr style=\"text-align: right;\">\n",
       "      <th></th>\n",
       "      <th>movieId</th>\n",
       "      <th>title</th>\n",
       "      <th>genres</th>\n",
       "      <th>userId</th>\n",
       "      <th>movieId</th>\n",
       "      <th>rating</th>\n",
       "      <th>timestamp</th>\n",
       "    </tr>\n",
       "  </thead>\n",
       "  <tbody>\n",
       "    <tr>\n",
       "      <th>0</th>\n",
       "      <td>1.0</td>\n",
       "      <td>Toy Story (1995)</td>\n",
       "      <td>Adventure|Animation|Children|Comedy|Fantasy</td>\n",
       "      <td>1</td>\n",
       "      <td>1</td>\n",
       "      <td>4.0</td>\n",
       "      <td>964982703</td>\n",
       "    </tr>\n",
       "    <tr>\n",
       "      <th>1</th>\n",
       "      <td>2.0</td>\n",
       "      <td>Jumanji (1995)</td>\n",
       "      <td>Adventure|Children|Fantasy</td>\n",
       "      <td>1</td>\n",
       "      <td>3</td>\n",
       "      <td>4.0</td>\n",
       "      <td>964981247</td>\n",
       "    </tr>\n",
       "    <tr>\n",
       "      <th>2</th>\n",
       "      <td>3.0</td>\n",
       "      <td>Grumpier Old Men (1995)</td>\n",
       "      <td>Comedy|Romance</td>\n",
       "      <td>1</td>\n",
       "      <td>6</td>\n",
       "      <td>4.0</td>\n",
       "      <td>964982224</td>\n",
       "    </tr>\n",
       "    <tr>\n",
       "      <th>3</th>\n",
       "      <td>4.0</td>\n",
       "      <td>Waiting to Exhale (1995)</td>\n",
       "      <td>Comedy|Drama|Romance</td>\n",
       "      <td>1</td>\n",
       "      <td>47</td>\n",
       "      <td>5.0</td>\n",
       "      <td>964983815</td>\n",
       "    </tr>\n",
       "    <tr>\n",
       "      <th>4</th>\n",
       "      <td>5.0</td>\n",
       "      <td>Father of the Bride Part II (1995)</td>\n",
       "      <td>Comedy</td>\n",
       "      <td>1</td>\n",
       "      <td>50</td>\n",
       "      <td>5.0</td>\n",
       "      <td>964982931</td>\n",
       "    </tr>\n",
       "    <tr>\n",
       "      <th>...</th>\n",
       "      <td>...</td>\n",
       "      <td>...</td>\n",
       "      <td>...</td>\n",
       "      <td>...</td>\n",
       "      <td>...</td>\n",
       "      <td>...</td>\n",
       "      <td>...</td>\n",
       "    </tr>\n",
       "    <tr>\n",
       "      <th>100831</th>\n",
       "      <td>NaN</td>\n",
       "      <td>NaN</td>\n",
       "      <td>NaN</td>\n",
       "      <td>610</td>\n",
       "      <td>166534</td>\n",
       "      <td>4.0</td>\n",
       "      <td>1493848402</td>\n",
       "    </tr>\n",
       "    <tr>\n",
       "      <th>100832</th>\n",
       "      <td>NaN</td>\n",
       "      <td>NaN</td>\n",
       "      <td>NaN</td>\n",
       "      <td>610</td>\n",
       "      <td>168248</td>\n",
       "      <td>5.0</td>\n",
       "      <td>1493850091</td>\n",
       "    </tr>\n",
       "    <tr>\n",
       "      <th>100833</th>\n",
       "      <td>NaN</td>\n",
       "      <td>NaN</td>\n",
       "      <td>NaN</td>\n",
       "      <td>610</td>\n",
       "      <td>168250</td>\n",
       "      <td>5.0</td>\n",
       "      <td>1494273047</td>\n",
       "    </tr>\n",
       "    <tr>\n",
       "      <th>100834</th>\n",
       "      <td>NaN</td>\n",
       "      <td>NaN</td>\n",
       "      <td>NaN</td>\n",
       "      <td>610</td>\n",
       "      <td>168252</td>\n",
       "      <td>5.0</td>\n",
       "      <td>1493846352</td>\n",
       "    </tr>\n",
       "    <tr>\n",
       "      <th>100835</th>\n",
       "      <td>NaN</td>\n",
       "      <td>NaN</td>\n",
       "      <td>NaN</td>\n",
       "      <td>610</td>\n",
       "      <td>170875</td>\n",
       "      <td>3.0</td>\n",
       "      <td>1493846415</td>\n",
       "    </tr>\n",
       "  </tbody>\n",
       "</table>\n",
       "<p>100836 rows × 7 columns</p>\n",
       "</div>"
      ],
      "text/plain": [
       "        movieId                               title  \\\n",
       "0           1.0                    Toy Story (1995)   \n",
       "1           2.0                      Jumanji (1995)   \n",
       "2           3.0             Grumpier Old Men (1995)   \n",
       "3           4.0            Waiting to Exhale (1995)   \n",
       "4           5.0  Father of the Bride Part II (1995)   \n",
       "...         ...                                 ...   \n",
       "100831      NaN                                 NaN   \n",
       "100832      NaN                                 NaN   \n",
       "100833      NaN                                 NaN   \n",
       "100834      NaN                                 NaN   \n",
       "100835      NaN                                 NaN   \n",
       "\n",
       "                                             genres  userId  movieId  rating  \\\n",
       "0       Adventure|Animation|Children|Comedy|Fantasy       1        1     4.0   \n",
       "1                        Adventure|Children|Fantasy       1        3     4.0   \n",
       "2                                    Comedy|Romance       1        6     4.0   \n",
       "3                              Comedy|Drama|Romance       1       47     5.0   \n",
       "4                                            Comedy       1       50     5.0   \n",
       "...                                             ...     ...      ...     ...   \n",
       "100831                                          NaN     610   166534     4.0   \n",
       "100832                                          NaN     610   168248     5.0   \n",
       "100833                                          NaN     610   168250     5.0   \n",
       "100834                                          NaN     610   168252     5.0   \n",
       "100835                                          NaN     610   170875     3.0   \n",
       "\n",
       "         timestamp  \n",
       "0        964982703  \n",
       "1        964981247  \n",
       "2        964982224  \n",
       "3        964983815  \n",
       "4        964982931  \n",
       "...            ...  \n",
       "100831  1493848402  \n",
       "100832  1493850091  \n",
       "100833  1494273047  \n",
       "100834  1493846352  \n",
       "100835  1493846415  \n",
       "\n",
       "[100836 rows x 7 columns]"
      ]
     },
     "execution_count": 16,
     "metadata": {},
     "output_type": "execute_result"
    }
   ],
   "source": [
    "data"
   ]
  },
  {
   "cell_type": "markdown",
   "id": "f22f7c26",
   "metadata": {},
   "source": [
    "#### Select all the correct tags submitted by users to \"Matrix, The (1999)\" movie?"
   ]
  },
  {
   "cell_type": "code",
   "execution_count": 17,
   "id": "232adb4c",
   "metadata": {},
   "outputs": [
    {
     "name": "stdout",
     "output_type": "stream",
     "text": [
      "Tags for \"Matrix, The (1999)\":\n",
      "martial arts\n",
      "sci-fi\n",
      "alternate universe\n",
      "philosophy\n",
      "post apocalyptic\n"
     ]
    }
   ],
   "source": [
    "matrix_movie_id = movies[movies['title'] == 'Matrix, The (1999)']['movieId'].values[0]\n",
    "\n",
    "matrix_tags = tags[tags['movieId'] == matrix_movie_id]['tag']\n",
    "\n",
    "print(f'Tags for \"Matrix, The (1999)\":')\n",
    "for tag in matrix_tags:\n",
    "    print(tag)\n"
   ]
  },
  {
   "cell_type": "markdown",
   "id": "700e4be3",
   "metadata": {},
   "source": [
    "#### What is the average user rating for movie named \"Terminator 2: Judgment Day (1991)\"?"
   ]
  },
  {
   "cell_type": "code",
   "execution_count": 18,
   "id": "d803dcd9",
   "metadata": {
    "scrolled": true
   },
   "outputs": [
    {
     "name": "stdout",
     "output_type": "stream",
     "text": [
      "The average user rating for \"Terminator 2: Judgment Day (1991)\" is: 3.97\n"
     ]
    }
   ],
   "source": [
    "terminator_movie_id = movies[\n",
    "    (movies['title'] == 'Terminator 2: Judgment Day (1991)')]['movieId'].values[0]\n",
    "\n",
    "# Select ratings for \"Terminator 2: Judgment Day (1991)\" using the movieId\n",
    "terminator_ratings = ratings[ratings['movieId'] == terminator_movie_id]['rating']\n",
    "\n",
    "# Calculate the average rating\n",
    "average_rating = terminator_ratings.mean()\n",
    "\n",
    "# Print the result\n",
    "print(f'The average user rating for \"Terminator 2: Judgment Day (1991)\" is: {average_rating:.2f}')\n"
   ]
  },
  {
   "cell_type": "markdown",
   "id": "cdcc2340",
   "metadata": {},
   "source": [
    "#### How does the data distribution of user ratings for \"Fight Club (1999)\" movie looks like?"
   ]
  },
  {
   "cell_type": "code",
   "execution_count": 19,
   "id": "725bbc87",
   "metadata": {},
   "outputs": [
    {
     "data": {
      "image/png": "[encoded data removed]",
      "text/plain": [
       "<Figure size 640x480 with 1 Axes>"
      ]
     },
     "metadata": {},
     "output_type": "display_data"
    }
   ],
   "source": [
    "import matplotlib.pyplot as plt\n",
    "\n",
    "# Find the movieId for \"Fight Club (1999)\"\n",
    "fight_club_movie_id = movies[\n",
    "    (movies['title'] == 'Fight Club (1999)')]['movieId'].values[0]\n",
    "\n",
    "# Select ratings for \"Fight Club (1999)\" using the movieId\n",
    "fight_club_ratings = ratings[ratings['movieId'] == fight_club_movie_id]['rating']\n",
    "\n",
    "# Plot the data distribution using a histogram\n",
    "plt.hist(fight_club_ratings, bins=5, edgecolor='black')  # Adjust the number of bins as needed\n",
    "plt.title('User Ratings Distribution for Fight Club (1999)')\n",
    "plt.xlabel('Rating')\n",
    "plt.ylabel('Number of Ratings')\n",
    "plt.show()"
   ]
  },
  {
   "cell_type": "markdown",
   "id": "6f60b79a",
   "metadata": {},
   "source": [
    "#### Left Skewed Distribution (Negatively Skewed): If the histogram is stretched out to the left and most of the data points are on the right, it's left-skewed. This suggests that there are more higher ratings, and few lower ratings."
   ]
  },
  {
   "cell_type": "markdown",
   "id": "6d6775f0",
   "metadata": {},
   "source": [
    "#### Which movie is the most popular based on average user ratings?"
   ]
  },
  {
   "cell_type": "code",
   "execution_count": 20,
   "id": "8c0961ed",
   "metadata": {},
   "outputs": [
    {
     "name": "stdout",
     "output_type": "stream",
     "text": [
      "The most popular movie based on average user ratings is: Lamerica (1994)\n"
     ]
    }
   ],
   "source": [
    "# Calculate the average rating for each movie\n",
    "average_ratings = ratings.groupby('movieId')['rating'].mean()\n",
    "\n",
    "# Find the movieId with the highest average rating\n",
    "most_popular_movie_id = average_ratings.idxmax()\n",
    "\n",
    "# Get the title of the most popular movie\n",
    "most_popular_movie_title = movies[movies['movieId'] == most_popular_movie_id]['title'].values[0]\n",
    "\n",
    "# Print the result\n",
    "print(f'The most popular movie based on average user ratings is: {most_popular_movie_title}')"
   ]
  },
  {
   "cell_type": "code",
   "execution_count": 21,
   "id": "83b38311",
   "metadata": {},
   "outputs": [
    {
     "data": {
      "text/html": [
       "<div>\n",
       "<style scoped>\n",
       "    .dataframe tbody tr th:only-of-type {\n",
       "        vertical-align: middle;\n",
       "    }\n",
       "\n",
       "    .dataframe tbody tr th {\n",
       "        vertical-align: top;\n",
       "    }\n",
       "\n",
       "    .dataframe thead th {\n",
       "        text-align: right;\n",
       "    }\n",
       "</style>\n",
       "<table border=\"1\" class=\"dataframe\">\n",
       "  <thead>\n",
       "    <tr style=\"text-align: right;\">\n",
       "      <th></th>\n",
       "      <th>movieId</th>\n",
       "      <th>title</th>\n",
       "      <th>genres</th>\n",
       "      <th>userId</th>\n",
       "      <th>movieId</th>\n",
       "      <th>tag</th>\n",
       "      <th>timestamp</th>\n",
       "    </tr>\n",
       "  </thead>\n",
       "  <tbody>\n",
       "    <tr>\n",
       "      <th>0</th>\n",
       "      <td>1</td>\n",
       "      <td>Toy Story (1995)</td>\n",
       "      <td>Adventure|Animation|Children|Comedy|Fantasy</td>\n",
       "      <td>2.0</td>\n",
       "      <td>60756.0</td>\n",
       "      <td>funny</td>\n",
       "      <td>1.445715e+09</td>\n",
       "    </tr>\n",
       "    <tr>\n",
       "      <th>1</th>\n",
       "      <td>2</td>\n",
       "      <td>Jumanji (1995)</td>\n",
       "      <td>Adventure|Children|Fantasy</td>\n",
       "      <td>2.0</td>\n",
       "      <td>60756.0</td>\n",
       "      <td>Highly quotable</td>\n",
       "      <td>1.445715e+09</td>\n",
       "    </tr>\n",
       "    <tr>\n",
       "      <th>2</th>\n",
       "      <td>3</td>\n",
       "      <td>Grumpier Old Men (1995)</td>\n",
       "      <td>Comedy|Romance</td>\n",
       "      <td>2.0</td>\n",
       "      <td>60756.0</td>\n",
       "      <td>will ferrell</td>\n",
       "      <td>1.445715e+09</td>\n",
       "    </tr>\n",
       "    <tr>\n",
       "      <th>3</th>\n",
       "      <td>4</td>\n",
       "      <td>Waiting to Exhale (1995)</td>\n",
       "      <td>Comedy|Drama|Romance</td>\n",
       "      <td>2.0</td>\n",
       "      <td>89774.0</td>\n",
       "      <td>Boxing story</td>\n",
       "      <td>1.445715e+09</td>\n",
       "    </tr>\n",
       "    <tr>\n",
       "      <th>4</th>\n",
       "      <td>5</td>\n",
       "      <td>Father of the Bride Part II (1995)</td>\n",
       "      <td>Comedy</td>\n",
       "      <td>2.0</td>\n",
       "      <td>89774.0</td>\n",
       "      <td>MMA</td>\n",
       "      <td>1.445715e+09</td>\n",
       "    </tr>\n",
       "    <tr>\n",
       "      <th>...</th>\n",
       "      <td>...</td>\n",
       "      <td>...</td>\n",
       "      <td>...</td>\n",
       "      <td>...</td>\n",
       "      <td>...</td>\n",
       "      <td>...</td>\n",
       "      <td>...</td>\n",
       "    </tr>\n",
       "    <tr>\n",
       "      <th>9737</th>\n",
       "      <td>193581</td>\n",
       "      <td>Black Butler: Book of the Atlantic (2017)</td>\n",
       "      <td>Action|Animation|Comedy|Fantasy</td>\n",
       "      <td>NaN</td>\n",
       "      <td>NaN</td>\n",
       "      <td>NaN</td>\n",
       "      <td>NaN</td>\n",
       "    </tr>\n",
       "    <tr>\n",
       "      <th>9738</th>\n",
       "      <td>193583</td>\n",
       "      <td>No Game No Life: Zero (2017)</td>\n",
       "      <td>Animation|Comedy|Fantasy</td>\n",
       "      <td>NaN</td>\n",
       "      <td>NaN</td>\n",
       "      <td>NaN</td>\n",
       "      <td>NaN</td>\n",
       "    </tr>\n",
       "    <tr>\n",
       "      <th>9739</th>\n",
       "      <td>193585</td>\n",
       "      <td>Flint (2017)</td>\n",
       "      <td>Drama</td>\n",
       "      <td>NaN</td>\n",
       "      <td>NaN</td>\n",
       "      <td>NaN</td>\n",
       "      <td>NaN</td>\n",
       "    </tr>\n",
       "    <tr>\n",
       "      <th>9740</th>\n",
       "      <td>193587</td>\n",
       "      <td>Bungo Stray Dogs: Dead Apple (2018)</td>\n",
       "      <td>Action|Animation</td>\n",
       "      <td>NaN</td>\n",
       "      <td>NaN</td>\n",
       "      <td>NaN</td>\n",
       "      <td>NaN</td>\n",
       "    </tr>\n",
       "    <tr>\n",
       "      <th>9741</th>\n",
       "      <td>193609</td>\n",
       "      <td>Andrew Dice Clay: Dice Rules (1991)</td>\n",
       "      <td>Comedy</td>\n",
       "      <td>NaN</td>\n",
       "      <td>NaN</td>\n",
       "      <td>NaN</td>\n",
       "      <td>NaN</td>\n",
       "    </tr>\n",
       "  </tbody>\n",
       "</table>\n",
       "<p>9742 rows × 7 columns</p>\n",
       "</div>"
      ],
      "text/plain": [
       "      movieId                                      title  \\\n",
       "0           1                           Toy Story (1995)   \n",
       "1           2                             Jumanji (1995)   \n",
       "2           3                    Grumpier Old Men (1995)   \n",
       "3           4                   Waiting to Exhale (1995)   \n",
       "4           5         Father of the Bride Part II (1995)   \n",
       "...       ...                                        ...   \n",
       "9737   193581  Black Butler: Book of the Atlantic (2017)   \n",
       "9738   193583               No Game No Life: Zero (2017)   \n",
       "9739   193585                               Flint (2017)   \n",
       "9740   193587        Bungo Stray Dogs: Dead Apple (2018)   \n",
       "9741   193609        Andrew Dice Clay: Dice Rules (1991)   \n",
       "\n",
       "                                           genres  userId  movieId  \\\n",
       "0     Adventure|Animation|Children|Comedy|Fantasy     2.0  60756.0   \n",
       "1                      Adventure|Children|Fantasy     2.0  60756.0   \n",
       "2                                  Comedy|Romance     2.0  60756.0   \n",
       "3                            Comedy|Drama|Romance     2.0  89774.0   \n",
       "4                                          Comedy     2.0  89774.0   \n",
       "...                                           ...     ...      ...   \n",
       "9737              Action|Animation|Comedy|Fantasy     NaN      NaN   \n",
       "9738                     Animation|Comedy|Fantasy     NaN      NaN   \n",
       "9739                                        Drama     NaN      NaN   \n",
       "9740                             Action|Animation     NaN      NaN   \n",
       "9741                                       Comedy     NaN      NaN   \n",
       "\n",
       "                  tag     timestamp  \n",
       "0               funny  1.445715e+09  \n",
       "1     Highly quotable  1.445715e+09  \n",
       "2        will ferrell  1.445715e+09  \n",
       "3        Boxing story  1.445715e+09  \n",
       "4                 MMA  1.445715e+09  \n",
       "...               ...           ...  \n",
       "9737              NaN           NaN  \n",
       "9738              NaN           NaN  \n",
       "9739              NaN           NaN  \n",
       "9740              NaN           NaN  \n",
       "9741              NaN           NaN  \n",
       "\n",
       "[9742 rows x 7 columns]"
      ]
     },
     "execution_count": 21,
     "metadata": {},
     "output_type": "execute_result"
    }
   ],
   "source": [
    "imdb = pd.concat([movies,tags],axis=1)\n",
    "imdb"
   ]
  },
  {
   "cell_type": "code",
   "execution_count": 22,
   "id": "08ff5331",
   "metadata": {},
   "outputs": [
    {
     "name": "stdout",
     "output_type": "stream",
     "text": [
      "The most popular movie based on average user ratings with more than 50 ratings is:\n",
      "Title: Shawshank Redemption, The (1994)\n",
      "Average Rating: 4.43\n",
      "Number of Ratings: 317\n"
     ]
    }
   ],
   "source": [
    "# Group ratings based on movieId and calculate count and mean\n",
    "ratings_grouped = ratings.groupby('movieId')['rating'].agg(['count', 'mean']).reset_index()\n",
    "\n",
    "# Inner join the grouped ratings DataFrame with movies DataFrame on movieId\n",
    "merged_df = pd.merge(ratings_grouped, movies, on='movieId', how='inner')\n",
    "\n",
    "# Filter movies with more than 50 user ratings\n",
    "popular_movies = merged_df[merged_df['count'] > 50]\n",
    "\n",
    "# Sort the DataFrame by average rating in descending order to find the most popular movie\n",
    "most_popular_movie = popular_movies.sort_values(by='mean', ascending=False).iloc[0]\n",
    "\n",
    "# Print the result\n",
    "print(f\"The most popular movie based on average user ratings with more than 50 ratings is:\")\n",
    "print(f\"Title: {most_popular_movie['title']}\")\n",
    "print(f\"Average Rating: {most_popular_movie['mean']:.2f}\")\n",
    "print(f\"Number of Ratings: {most_popular_movie['count']}\")\n"
   ]
  },
  {
   "cell_type": "markdown",
   "id": "08020fa4",
   "metadata": {},
   "source": [
    "#### Select all the correct options which comes under top 5 popular movies based on number of user ratings."
   ]
  },
  {
   "cell_type": "code",
   "execution_count": 23,
   "id": "3b8a0ec9",
   "metadata": {},
   "outputs": [
    {
     "name": "stdout",
     "output_type": "stream",
     "text": [
      "Top 5 popular movies based on number of user ratings:\n",
      "Title: Forrest Gump (1994)\n",
      "Number of Ratings: 329\n",
      "------------------------\n",
      "Title: Shawshank Redemption, The (1994)\n",
      "Number of Ratings: 317\n",
      "------------------------\n",
      "Title: Pulp Fiction (1994)\n",
      "Number of Ratings: 307\n",
      "------------------------\n",
      "Title: Silence of the Lambs, The (1991)\n",
      "Number of Ratings: 279\n",
      "------------------------\n",
      "Title: Matrix, The (1999)\n",
      "Number of Ratings: 278\n",
      "------------------------\n"
     ]
    }
   ],
   "source": [
    "# Group ratings based on movieId and calculate count\n",
    "ratings_count = ratings.groupby('movieId')['rating'].count().reset_index()\n",
    "\n",
    "# Merge the DataFrame with movies\n",
    "merged_df = pd.merge(ratings_count, movies, on='movieId', how='inner')\n",
    "\n",
    "# Sort the DataFrame by rating count in descending order to find the top 5 popular movies\n",
    "top_5_popular_movies = merged_df.sort_values(by='rating', ascending=False).head(5)\n",
    "\n",
    "# Print the result\n",
    "print(\"Top 5 popular movies based on number of user ratings:\")\n",
    "for index, row in top_5_popular_movies.iterrows():\n",
    "    print(f\"Title: {row['title']}\")\n",
    "    print(f\"Number of Ratings: {row['rating']}\")\n",
    "    print(\"------------------------\")"
   ]
  },
  {
   "cell_type": "markdown",
   "id": "a995bfb4",
   "metadata": {},
   "source": [
    "#### Which Sci-Fi movie is \"third most popular\" based on the number of user ratings?"
   ]
  },
  {
   "cell_type": "code",
   "execution_count": 24,
   "id": "347fc1aa",
   "metadata": {},
   "outputs": [
    {
     "name": "stdout",
     "output_type": "stream",
     "text": [
      "The third most popular Sci-Fi movie based on number of user ratings is:\n",
      "Title: Jurassic Park (1993)\n",
      "Number of Ratings: 238\n"
     ]
    }
   ],
   "source": [
    "sci_fi_movies = movies[movies['genres'].str.contains('Sci-Fi')]\n",
    "\n",
    "# Group ratings based on movieId and calculate count of ratings\n",
    "ratings_count = ratings.groupby('movieId')['rating'].count().reset_index()\n",
    "\n",
    "# Merge the two DataFrames\n",
    "merged_df = pd.merge(ratings_count, sci_fi_movies, on='movieId', how='inner')\n",
    "\n",
    "# Sort the DataFrame based on the count of ratings\n",
    "third_most_popular_sci_fi_movie = merged_df.sort_values(by='rating', ascending=False).iloc[2]\n",
    "\n",
    "# Print the result\n",
    "print(f\"The third most popular Sci-Fi movie based on number of user ratings is:\")\n",
    "print(f\"Title: {third_most_popular_sci_fi_movie['title']}\")\n",
    "print(f\"Number of Ratings: {third_most_popular_sci_fi_movie['rating']}\")"
   ]
  },
  {
   "cell_type": "markdown",
   "id": "86e286ca",
   "metadata": {},
   "source": [
    "#### Mention the movieId of the movie which has the highest IMDB rating"
   ]
  },
  {
   "cell_type": "code",
   "execution_count": 25,
   "id": "7dd1d884",
   "metadata": {},
   "outputs": [
    {
     "name": "stdout",
     "output_type": "stream",
     "text": [
      "The movieId of the highest-rated movie is: 193587.0\n"
     ]
    }
   ],
   "source": [
    "import pandas as pd\n",
    "movies_df = pd.DataFrame(links)\n",
    "highest_rated_movie = movies_df.loc[movies_df['imdbId'].idxmax()]\n",
    "\n",
    "highest_rated_movie_id = highest_rated_movie['movieId']\n",
    "\n",
    "print(f\"The movieId of the highest-rated movie is: {highest_rated_movie_id}\")"
   ]
  },
  {
   "cell_type": "markdown",
   "id": "b0a930a1",
   "metadata": {},
   "source": [
    "#### Mention the movieId of the \"Sci-Fi\" movie which has the highest IMDB rating"
   ]
  },
  {
   "cell_type": "code",
   "execution_count": 26,
   "id": "2f375585",
   "metadata": {},
   "outputs": [
    {
     "name": "stdout",
     "output_type": "stream",
     "text": [
      "The movieId of the highest-rated Sci-Fi movie is:       movieId   movieId\n",
      "9732   193565       NaN\n",
      "3311     4480  176371.0\n"
     ]
    }
   ],
   "source": [
    "import pandas as pd\n",
    "movies_df = pd.DataFrame(imdb)\n",
    "scifi_movies = movies_df[movies_df['genres'].str.contains('Sci-Fi')]\n",
    "highest_rated_scifi_movie = scifi_movies.loc[scifi_movies['movieId'].idxmax()]\n",
    "highest_rated_scifi_movie_id = highest_rated_scifi_movie['movieId']\n",
    "print(f\"The movieId of the highest-rated Sci-Fi movie is: {highest_rated_scifi_movie_id}\")"
   ]
  },
  {
   "cell_type": "code",
   "execution_count": null,
   "id": "077d2e36",
   "metadata": {},
   "outputs": [],
   "source": []
  }
 ],
 "metadata": {
  "kernelspec": {
   "display_name": "Python 3 (ipykernel)",
   "language": "python",
   "name": "python3"
  },
  "language_info": {
   "codemirror_mode": {
    "name": "ipython",
    "version": 3
   },
   "file_extension": ".py",
   "mimetype": "text/x-python",
   "name": "python",
   "nbconvert_exporter": "python",
   "pygments_lexer": "ipython3",
   "version": "3.12.1"
  }
 },
 "nbformat": 4,
 "nbformat_minor": 5
}
